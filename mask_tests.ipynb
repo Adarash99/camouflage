{
 "cells": [
  {
   "cell_type": "markdown",
   "id": "2f0c9a89",
   "metadata": {},
   "source": [
    "## setup"
   ]
  },
  {
   "cell_type": "code",
   "execution_count": 2,
   "id": "42d66884",
   "metadata": {},
   "outputs": [
    {
     "name": "stdout",
     "output_type": "stream",
     "text": [
      "Requirement already satisfied: tensorflow in /home/lunet/bz0192/.conda/envs/PROJECT/lib/python3.7/site-packages (2.11.0)\n",
      "Requirement already satisfied: numpy in /home/lunet/bz0192/.conda/envs/PROJECT/lib/python3.7/site-packages (1.21.6)\n",
      "Requirement already satisfied: matplotlib in /home/lunet/bz0192/.conda/envs/PROJECT/lib/python3.7/site-packages (3.5.3)\n",
      "Requirement already satisfied: torch in /home/lunet/bz0192/.conda/envs/PROJECT/lib/python3.7/site-packages (1.13.1)\n",
      "Requirement already satisfied: torchvision in /home/lunet/bz0192/.conda/envs/PROJECT/lib/python3.7/site-packages (0.14.1)\n",
      "Requirement already satisfied: pandas in /home/lunet/bz0192/.conda/envs/PROJECT/lib/python3.7/site-packages (1.3.5)\n",
      "Requirement already satisfied: scikit-learn in /home/lunet/bz0192/.conda/envs/PROJECT/lib/python3.7/site-packages (1.0.2)\n",
      "Requirement already satisfied: opencv-python in /home/lunet/bz0192/.conda/envs/PROJECT/lib/python3.7/site-packages (4.11.0.86)\n",
      "Requirement already satisfied: gast<=0.4.0,>=0.2.1 in /home/lunet/bz0192/.conda/envs/PROJECT/lib/python3.7/site-packages (from tensorflow) (0.4.0)\n",
      "Requirement already satisfied: keras<2.12,>=2.11.0 in /home/lunet/bz0192/.conda/envs/PROJECT/lib/python3.7/site-packages (from tensorflow) (2.11.0)\n",
      "Requirement already satisfied: six>=1.12.0 in /home/lunet/bz0192/.conda/envs/PROJECT/lib/python3.7/site-packages (from tensorflow) (1.16.0)\n",
      "Requirement already satisfied: grpcio<2.0,>=1.24.3 in /home/lunet/bz0192/.conda/envs/PROJECT/lib/python3.7/site-packages (from tensorflow) (1.62.3)\n",
      "Requirement already satisfied: tensorflow-io-gcs-filesystem>=0.23.1 in /home/lunet/bz0192/.conda/envs/PROJECT/lib/python3.7/site-packages (from tensorflow) (0.34.0)\n",
      "Requirement already satisfied: opt-einsum>=2.3.2 in /home/lunet/bz0192/.conda/envs/PROJECT/lib/python3.7/site-packages (from tensorflow) (3.3.0)\n",
      "Requirement already satisfied: packaging in /home/lunet/bz0192/.conda/envs/PROJECT/lib/python3.7/site-packages (from tensorflow) (23.2)\n",
      "Requirement already satisfied: google-pasta>=0.1.1 in /home/lunet/bz0192/.conda/envs/PROJECT/lib/python3.7/site-packages (from tensorflow) (0.2.0)\n",
      "Requirement already satisfied: wrapt>=1.11.0 in /home/lunet/bz0192/.conda/envs/PROJECT/lib/python3.7/site-packages (from tensorflow) (1.16.0)\n",
      "Requirement already satisfied: tensorflow-estimator<2.12,>=2.11.0 in /home/lunet/bz0192/.conda/envs/PROJECT/lib/python3.7/site-packages (from tensorflow) (2.11.0)\n",
      "Requirement already satisfied: setuptools in /home/lunet/bz0192/.conda/envs/PROJECT/lib/python3.7/site-packages (from tensorflow) (65.6.3)\n",
      "Requirement already satisfied: typing-extensions>=3.6.6 in /home/lunet/bz0192/.conda/envs/PROJECT/lib/python3.7/site-packages (from tensorflow) (4.7.1)\n",
      "Requirement already satisfied: h5py>=2.9.0 in /home/lunet/bz0192/.conda/envs/PROJECT/lib/python3.7/site-packages (from tensorflow) (3.8.0)\n",
      "Requirement already satisfied: protobuf<3.20,>=3.9.2 in /home/lunet/bz0192/.conda/envs/PROJECT/lib/python3.7/site-packages (from tensorflow) (3.19.6)\n",
      "Requirement already satisfied: termcolor>=1.1.0 in /home/lunet/bz0192/.conda/envs/PROJECT/lib/python3.7/site-packages (from tensorflow) (2.3.0)\n",
      "Requirement already satisfied: libclang>=13.0.0 in /home/lunet/bz0192/.conda/envs/PROJECT/lib/python3.7/site-packages (from tensorflow) (18.1.1)\n",
      "Requirement already satisfied: astunparse>=1.6.0 in /home/lunet/bz0192/.conda/envs/PROJECT/lib/python3.7/site-packages (from tensorflow) (1.6.3)\n",
      "Requirement already satisfied: flatbuffers>=2.0 in /home/lunet/bz0192/.conda/envs/PROJECT/lib/python3.7/site-packages (from tensorflow) (25.2.10)\n",
      "Requirement already satisfied: absl-py>=1.0.0 in /home/lunet/bz0192/.conda/envs/PROJECT/lib/python3.7/site-packages (from tensorflow) (2.1.0)\n",
      "Requirement already satisfied: tensorboard<2.12,>=2.11 in /home/lunet/bz0192/.conda/envs/PROJECT/lib/python3.7/site-packages (from tensorflow) (2.11.2)\n",
      "Requirement already satisfied: kiwisolver>=1.0.1 in /home/lunet/bz0192/.conda/envs/PROJECT/lib/python3.7/site-packages (from matplotlib) (1.4.5)\n",
      "Requirement already satisfied: pillow>=6.2.0 in /home/lunet/bz0192/.conda/envs/PROJECT/lib/python3.7/site-packages (from matplotlib) (9.5.0)\n",
      "Requirement already satisfied: cycler>=0.10 in /home/lunet/bz0192/.conda/envs/PROJECT/lib/python3.7/site-packages (from matplotlib) (0.11.0)\n",
      "Requirement already satisfied: fonttools>=4.22.0 in /home/lunet/bz0192/.conda/envs/PROJECT/lib/python3.7/site-packages (from matplotlib) (4.38.0)\n",
      "Requirement already satisfied: pyparsing>=2.2.1 in /home/lunet/bz0192/.conda/envs/PROJECT/lib/python3.7/site-packages (from matplotlib) (3.1.4)\n",
      "Requirement already satisfied: python-dateutil>=2.7 in /home/lunet/bz0192/.conda/envs/PROJECT/lib/python3.7/site-packages (from matplotlib) (2.9.0)\n",
      "Requirement already satisfied: nvidia-cuda-nvrtc-cu11==11.7.99 in /home/lunet/bz0192/.conda/envs/PROJECT/lib/python3.7/site-packages (from torch) (11.7.99)\n",
      "Requirement already satisfied: nvidia-cublas-cu11==11.10.3.66 in /home/lunet/bz0192/.conda/envs/PROJECT/lib/python3.7/site-packages (from torch) (11.10.3.66)\n",
      "Requirement already satisfied: nvidia-cuda-runtime-cu11==11.7.99 in /home/lunet/bz0192/.conda/envs/PROJECT/lib/python3.7/site-packages (from torch) (11.7.99)\n",
      "Requirement already satisfied: nvidia-cudnn-cu11==8.5.0.96 in /home/lunet/bz0192/.conda/envs/PROJECT/lib/python3.7/site-packages (from torch) (8.5.0.96)\n",
      "Requirement already satisfied: wheel in /home/lunet/bz0192/.conda/envs/PROJECT/lib/python3.7/site-packages (from nvidia-cublas-cu11==11.10.3.66->torch) (0.38.4)\n",
      "Requirement already satisfied: requests in /home/lunet/bz0192/.conda/envs/PROJECT/lib/python3.7/site-packages (from torchvision) (2.31.0)\n",
      "Requirement already satisfied: pytz>=2017.3 in /home/lunet/bz0192/.conda/envs/PROJECT/lib/python3.7/site-packages (from pandas) (2025.2)\n",
      "Requirement already satisfied: scipy>=1.1.0 in /home/lunet/bz0192/.conda/envs/PROJECT/lib/python3.7/site-packages (from scikit-learn) (1.7.3)\n",
      "Requirement already satisfied: threadpoolctl>=2.0.0 in /home/lunet/bz0192/.conda/envs/PROJECT/lib/python3.7/site-packages (from scikit-learn) (3.1.0)\n",
      "Requirement already satisfied: joblib>=0.11 in /home/lunet/bz0192/.conda/envs/PROJECT/lib/python3.7/site-packages (from scikit-learn) (1.3.2)\n",
      "Requirement already satisfied: google-auth<3,>=1.6.3 in /home/lunet/bz0192/.conda/envs/PROJECT/lib/python3.7/site-packages (from tensorboard<2.12,>=2.11->tensorflow) (2.40.1)\n",
      "Requirement already satisfied: google-auth-oauthlib<0.5,>=0.4.1 in /home/lunet/bz0192/.conda/envs/PROJECT/lib/python3.7/site-packages (from tensorboard<2.12,>=2.11->tensorflow) (0.4.6)\n",
      "Requirement already satisfied: markdown>=2.6.8 in /home/lunet/bz0192/.conda/envs/PROJECT/lib/python3.7/site-packages (from tensorboard<2.12,>=2.11->tensorflow) (3.4.4)\n",
      "Requirement already satisfied: tensorboard-data-server<0.7.0,>=0.6.0 in /home/lunet/bz0192/.conda/envs/PROJECT/lib/python3.7/site-packages (from tensorboard<2.12,>=2.11->tensorflow) (0.6.1)\n",
      "Requirement already satisfied: tensorboard-plugin-wit>=1.6.0 in /home/lunet/bz0192/.conda/envs/PROJECT/lib/python3.7/site-packages (from tensorboard<2.12,>=2.11->tensorflow) (1.8.1)\n",
      "Requirement already satisfied: werkzeug>=1.0.1 in /home/lunet/bz0192/.conda/envs/PROJECT/lib/python3.7/site-packages (from tensorboard<2.12,>=2.11->tensorflow) (2.2.3)\n",
      "Requirement already satisfied: urllib3<3,>=1.21.1 in /home/lunet/bz0192/.conda/envs/PROJECT/lib/python3.7/site-packages (from requests->torchvision) (2.0.7)\n",
      "Requirement already satisfied: certifi>=2017.4.17 in /home/lunet/bz0192/.conda/envs/PROJECT/lib/python3.7/site-packages (from requests->torchvision) (2024.8.30)\n",
      "Requirement already satisfied: idna<4,>=2.5 in /home/lunet/bz0192/.conda/envs/PROJECT/lib/python3.7/site-packages (from requests->torchvision) (3.10)\n",
      "Requirement already satisfied: charset-normalizer<4,>=2 in /home/lunet/bz0192/.conda/envs/PROJECT/lib/python3.7/site-packages (from requests->torchvision) (3.4.2)\n",
      "Requirement already satisfied: pyasn1-modules>=0.2.1 in /home/lunet/bz0192/.conda/envs/PROJECT/lib/python3.7/site-packages (from google-auth<3,>=1.6.3->tensorboard<2.12,>=2.11->tensorflow) (0.3.0)\n",
      "Requirement already satisfied: rsa<5,>=3.1.4 in /home/lunet/bz0192/.conda/envs/PROJECT/lib/python3.7/site-packages (from google-auth<3,>=1.6.3->tensorboard<2.12,>=2.11->tensorflow) (4.9.1)\n",
      "Requirement already satisfied: cachetools<6.0,>=2.0.0 in /home/lunet/bz0192/.conda/envs/PROJECT/lib/python3.7/site-packages (from google-auth<3,>=1.6.3->tensorboard<2.12,>=2.11->tensorflow) (5.5.2)\n",
      "Requirement already satisfied: requests-oauthlib>=0.7.0 in /home/lunet/bz0192/.conda/envs/PROJECT/lib/python3.7/site-packages (from google-auth-oauthlib<0.5,>=0.4.1->tensorboard<2.12,>=2.11->tensorflow) (2.0.0)\n",
      "Requirement already satisfied: importlib-metadata>=4.4 in /home/lunet/bz0192/.conda/envs/PROJECT/lib/python3.7/site-packages (from markdown>=2.6.8->tensorboard<2.12,>=2.11->tensorflow) (6.7.0)\n",
      "Requirement already satisfied: MarkupSafe>=2.1.1 in /home/lunet/bz0192/.conda/envs/PROJECT/lib/python3.7/site-packages (from werkzeug>=1.0.1->tensorboard<2.12,>=2.11->tensorflow) (2.1.5)\n",
      "Requirement already satisfied: zipp>=0.5 in /home/lunet/bz0192/.conda/envs/PROJECT/lib/python3.7/site-packages (from importlib-metadata>=4.4->markdown>=2.6.8->tensorboard<2.12,>=2.11->tensorflow) (3.15.0)\n",
      "Requirement already satisfied: pyasn1<0.6.0,>=0.4.6 in /home/lunet/bz0192/.conda/envs/PROJECT/lib/python3.7/site-packages (from pyasn1-modules>=0.2.1->google-auth<3,>=1.6.3->tensorboard<2.12,>=2.11->tensorflow) (0.5.1)\n",
      "Requirement already satisfied: oauthlib>=3.0.0 in /home/lunet/bz0192/.conda/envs/PROJECT/lib/python3.7/site-packages (from requests-oauthlib>=0.7.0->google-auth-oauthlib<0.5,>=0.4.1->tensorboard<2.12,>=2.11->tensorflow) (3.2.2)\n"
     ]
    },
    {
     "name": "stderr",
     "output_type": "stream",
     "text": [
      "2025-07-18 12:09:04.813342: I tensorflow/core/platform/cpu_feature_guard.cc:193] This TensorFlow binary is optimized with oneAPI Deep Neural Network Library (oneDNN) to use the following CPU instructions in performance-critical operations:  AVX2 AVX512F AVX512_VNNI AVX512_BF16 FMA\n",
      "To enable them in other operations, rebuild TensorFlow with the appropriate compiler flags.\n",
      "2025-07-18 12:09:04.947487: I tensorflow/core/util/port.cc:104] oneDNN custom operations are on. You may see slightly different numerical results due to floating-point round-off errors from different computation orders. To turn them off, set the environment variable `TF_ENABLE_ONEDNN_OPTS=0`.\n",
      "2025-07-18 12:09:04.970928: W tensorflow/compiler/xla/stream_executor/platform/default/dso_loader.cc:64] Could not load dynamic library 'libcudart.so.11.0'; dlerror: libcudart.so.11.0: cannot open shared object file: No such file or directory; LD_LIBRARY_PATH: /usr/local/cuda/lib64\n",
      "2025-07-18 12:09:04.970936: I tensorflow/compiler/xla/stream_executor/cuda/cudart_stub.cc:29] Ignore above cudart dlerror if you do not have a GPU set up on your machine.\n",
      "2025-07-18 12:09:05.484670: W tensorflow/compiler/xla/stream_executor/platform/default/dso_loader.cc:64] Could not load dynamic library 'libnvinfer.so.7'; dlerror: libnvinfer.so.7: cannot open shared object file: No such file or directory; LD_LIBRARY_PATH: /usr/local/cuda/lib64\n",
      "2025-07-18 12:09:05.484730: W tensorflow/compiler/xla/stream_executor/platform/default/dso_loader.cc:64] Could not load dynamic library 'libnvinfer_plugin.so.7'; dlerror: libnvinfer_plugin.so.7: cannot open shared object file: No such file or directory; LD_LIBRARY_PATH: /usr/local/cuda/lib64\n",
      "2025-07-18 12:09:05.484734: W tensorflow/compiler/tf2tensorrt/utils/py_utils.cc:38] TF-TRT Warning: Cannot dlopen some TensorRT libraries. If you would like to use Nvidia GPU with TensorRT, please make sure the missing libraries mentioned above are installed properly.\n"
     ]
    }
   ],
   "source": [
    "! pip install tensorflow numpy matplotlib torch torchvision pandas scikit-learn opencv-python\n",
    "\n",
    "import numpy as np\n",
    "import matplotlib.pyplot as plt\n",
    "import os\n",
    "from glob import glob\n",
    "import tensorflow as tf\n",
    "from tensorflow.keras import Input, Model\n",
    "from tensorflow.keras.layers import Conv2D, Concatenate, Flatten, Dense, MaxPooling2D\n",
    "from tensorflow.keras.optimizers import Adam\n",
    "import sklearn\n",
    "import sklearn.metrics\n",
    "from PIL import Image"
   ]
  },
  {
   "cell_type": "code",
   "execution_count": null,
   "id": "05aea189",
   "metadata": {},
   "outputs": [
    {
     "data": {
      "image/png": "[encoded data removed]",
      "text/plain": [
       "<Figure size 640x480 with 1 Axes>"
      ]
     },
     "metadata": {},
     "output_type": "display_data"
    }
   ],
   "source": [
    "import numpy as np\n",
    "import matplotlib.pyplot as plt\n",
    "from PIL import Image\n",
    "\n",
    "texture = np.random.randint(0, 256, (16, 16, 3), dtype=np.uint8)\n",
    "\n",
    "\n",
    "# COMMENT THIS OUT IF YOU WANT TO TILE THE TEXTURE REPEATEDLY OVER 500x500 AREA\n",
    "texture = np.array(\n",
    "    Image.fromarray(texture).resize((500, 500), resample=Image.NEAREST)\n",
    ")\n",
    "\n",
    "plt.imshow(texture)\n",
    "plt.axis('off')\n",
    "plt.show()\n"
   ]
  },
  {
   "cell_type": "code",
   "execution_count": 27,
   "id": "5e0f6b95",
   "metadata": {},
   "outputs": [
    {
     "name": "stdout",
     "output_type": "stream",
     "text": [
      "Loading validation datasets...\n"
     ]
    }
   ],
   "source": [
    "def load_images_from_folder(folder, image_size=(500, 500)):\n",
    "    paths = sorted(glob(os.path.join(folder, '*.png')) + glob(os.path.join(folder, '*.jpg')))\n",
    "    images = []\n",
    "    for path in paths:\n",
    "        img = tf.keras.preprocessing.image.load_img(path, target_size=image_size)\n",
    "        img = tf.keras.preprocessing.image.img_to_array(img)\n",
    "        img = img / 255.0  # Normalize to [0,1]\n",
    "        images.append(img)\n",
    "    return np.array(images)\n",
    "\n",
    "print(\"Loading validation datasets...\")\n",
    "val_x_ref = load_images_from_folder('validation_dataset_clean/reference')\n",
    "val_eta_exp = load_images_from_folder('validation_dataset_clean/texture')\n",
    "val_x_ren = load_images_from_folder('validation_dataset_clean/rendered')"
   ]
  },
  {
   "cell_type": "code",
   "execution_count": 42,
   "id": "923d11c8",
   "metadata": {},
   "outputs": [
    {
     "data": {
      "image/png": "[encoded data removed]",
      "text/plain": [
       "<Figure size 640x480 with 1 Axes>"
      ]
     },
     "metadata": {},
     "output_type": "display_data"
    }
   ],
   "source": [
    "from PIL import Image\n",
    "\n",
    "# Tile the texture repeatedly over the 500x500 image\n",
    "tile_rows = 500 // texture.shape[0] + 1\n",
    "tile_cols = 500 // texture.shape[1] + 1\n",
    "\n",
    "tiled_texture = np.tile(texture, (tile_rows, tile_cols, 1))[:500, :500, :]\n",
    "\n",
    "mask = np.any(val_eta_exp[65] > 0.01, axis=-1, keepdims=True)  # Shape: (500, 500, 1)\n",
    "\n",
    "# Apply texture to masked regions\n",
    "texture_mask = np.where(mask, tiled_texture, 0.0)\n",
    "\n",
    "plt.imshow(texture_mask.astype(np.uint8))\n",
    "plt.axis('off')\n",
    "plt.show()\n"
   ]
  },
  {
   "cell_type": "code",
   "execution_count": 39,
   "id": "11e9de08",
   "metadata": {},
   "outputs": [
    {
     "name": "stdout",
     "output_type": "stream",
     "text": [
      "1/1 [==============================] - 0s 88ms/step\n"
     ]
    },
    {
     "data": {
      "image/png": "[encoded data removed]",
      "text/plain": [
       "<Figure size 640x480 with 1 Axes>"
      ]
     },
     "metadata": {},
     "output_type": "display_data"
    }
   ],
   "source": [
    "# Load a Keras model (replace 'model_path' with your actual model file)\n",
    "model = tf.keras.models.load_model('models/k3_12epch_wo_custom_loss_model.h5')\n",
    "\n",
    "# Prepare two inputs for prediction (example: val_x_ref[0] and val_eta_exp[0])\n",
    "input1 = np.expand_dims(val_x_ref[65], axis=0)  # shape: (1, 500, 500, 3)\n",
    "input2 = np.expand_dims(texture_mask, axis=0)  # shape: (1, 500, 500, 3)\n",
    "\n",
    "# Predict using the model\n",
    "outputs = model.predict([input1, input2])\n",
    "\n",
    "# Visualise the output (assuming output shape is (1, 500, 500, 3))\n",
    "plt.imshow(outputs[0])  # Display the first output\n",
    "plt.axis('off')\n",
    "plt.title('Model Output')\n",
    "plt.show()"
   ]
  },
  {
   "cell_type": "code",
   "execution_count": null,
   "id": "a4be2ab4",
   "metadata": {},
   "outputs": [],
   "source": []
  }
 ],
 "metadata": {
  "kernelspec": {
   "display_name": "PROJECT",
   "language": "python",
   "name": "python3"
  },
  "language_info": {
   "codemirror_mode": {
    "name": "ipython",
    "version": 3
   },
   "file_extension": ".py",
   "mimetype": "text/x-python",
   "name": "python",
   "nbconvert_exporter": "python",
   "pygments_lexer": "ipython3",
   "version": "3.7.12"
  }
 },
 "nbformat": 4,
 "nbformat_minor": 5
}
